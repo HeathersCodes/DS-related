{
 "cells": [
  {
   "cell_type": "code",
   "execution_count": 1,
   "id": "1397bc7b",
   "metadata": {},
   "outputs": [],
   "source": [
    "from scipy.optimize import fsolve\n",
    "import numpy as np"
   ]
  },
  {
   "cell_type": "code",
   "execution_count": 2,
   "id": "509c689b",
   "metadata": {},
   "outputs": [],
   "source": [
    "#Exercise 2\n",
    "ea = 0.17\n",
    "eb = 0.09\n",
    "w_a = 275*2.95/(275*2.95 + 230*5.33)\n",
    "w_b = 230*5.33/(275*2.95 + 230*5.33)\n",
    "rm = w_a * ea + w_b * eb \n",
    "vol_a, vol_b, corrab = 0.27, 0.14, 0.57"
   ]
  },
  {
   "cell_type": "code",
   "execution_count": 3,
   "id": "2ccec221",
   "metadata": {},
   "outputs": [
    {
     "data": {
      "text/plain": [
       "0.12185823331615246"
      ]
     },
     "execution_count": 3,
     "metadata": {},
     "output_type": "execute_result"
    }
   ],
   "source": [
    "#Question a: expected return on the market portfolio\n",
    "rm"
   ]
  },
  {
   "cell_type": "code",
   "execution_count": 4,
   "id": "3256e9b4",
   "metadata": {},
   "outputs": [],
   "source": [
    "A = np.array([w_a, w_b])\n",
    "AT = np.transpose(A)\n",
    "B = np.array([[vol_a**2, corrab*vol_a*vol_b], [corrab*vol_a*vol_b, vol_b**2]])"
   ]
  },
  {
   "cell_type": "code",
   "execution_count": 5,
   "id": "a6d69e69",
   "metadata": {},
   "outputs": [],
   "source": [
    "#a = w_a**2 * vol_a**2 + w_b**2 * vol_b**2 + 2 * w_a * w_b * vol_a * vol_b * corrab\n",
    "#a ** 0.5\n",
    "#check"
   ]
  },
  {
   "cell_type": "code",
   "execution_count": 6,
   "id": "80c9d056",
   "metadata": {},
   "outputs": [
    {
     "data": {
      "text/plain": [
       "0.17025068024132733"
      ]
     },
     "execution_count": 6,
     "metadata": {},
     "output_type": "execute_result"
    }
   ],
   "source": [
    "#Question b: volatility of the market portfolio\n",
    "vol_port = np.matmul(A, np.matmul(B,AT)) ** 0.5\n",
    "vol_port"
   ]
  },
  {
   "cell_type": "code",
   "execution_count": 11,
   "id": "75ad14f4",
   "metadata": {},
   "outputs": [],
   "source": [
    "beta_a = (w_a * vol_a * vol_a + w_b * corrab * vol_a * vol_b) / np.matmul(A, np.matmul(B,AT))\n",
    "beta_b = (w_a * vol_a * vol_b * corrab + w_b * vol_b * vol_b) / np.matmul(A, np.matmul(B,AT))"
   ]
  },
  {
   "cell_type": "code",
   "execution_count": 15,
   "id": "afe05e0a",
   "metadata": {},
   "outputs": [
    {
     "name": "stdout",
     "output_type": "stream",
     "text": [
      "Beta of stock A: 1.4488932299181307\n",
      "Beta of stock B: 0.70294099618967\n"
     ]
    }
   ],
   "source": [
    "#Question d: What is the beta of each stock?\n",
    "print(f'Beta of stock A: {beta_a}')\n",
    "print(f'Beta of stock B: {beta_b}')"
   ]
  },
  {
   "cell_type": "code",
   "execution_count": 13,
   "id": "f5d1531a",
   "metadata": {},
   "outputs": [
    {
     "data": {
      "text/plain": [
       "1.0"
      ]
     },
     "execution_count": 13,
     "metadata": {},
     "output_type": "execute_result"
    }
   ],
   "source": [
    "#check the answer\n",
    "beta_a * w_a + beta_b * w_b"
   ]
  },
  {
   "cell_type": "code",
   "execution_count": 19,
   "id": "a1673a6d",
   "metadata": {},
   "outputs": [
    {
     "name": "stdout",
     "output_type": "stream",
     "text": [
      "Risk-free rate: 0.014612760505997417\n",
      "Yes, it is close to realistic value\n"
     ]
    }
   ],
   "source": [
    "#Question d: What is the risk-free rate? Is it a realistic value?\n",
    "def equations(x, *arg):\n",
    "    ea, beta_a, eb, beta_b, rm = arg\n",
    "    rf1 = x[0]\n",
    "    rf2 = x[1]\n",
    "    eq1 = rf1 - ea + beta_a * (rm -rf1)\n",
    "    eq2 = rf2 - eb + beta_b * (rm -rf2)\n",
    "    return [eq1, eq2]\n",
    "\n",
    "# Set an initial guess for the solution\n",
    "guess = [0, 0]\n",
    "\n",
    "# Use fsolve to find the roots of the system of equations\n",
    "x = fsolve(equations, guess, args=(ea, beta_a, eb, beta_b, rm))\n",
    "\n",
    "print(f'Risk-free rate: {float(x[0])}')\n",
    "print('Yes, it is close to realistic value')\n"
   ]
  },
  {
   "cell_type": "code",
   "execution_count": 18,
   "id": "f3593bb8",
   "metadata": {},
   "outputs": [
    {
     "data": {
      "text/plain": [
       "True"
      ]
     },
     "execution_count": 18,
     "metadata": {},
     "output_type": "execute_result"
    }
   ],
   "source": [
    "#Check the answer: observe 8 decimal places\n",
    "round(x[0], 8) == round(x[1], 8)"
   ]
  },
  {
   "cell_type": "code",
   "execution_count": null,
   "id": "40a77a63",
   "metadata": {},
   "outputs": [],
   "source": []
  }
 ],
 "metadata": {
  "kernelspec": {
   "display_name": "Python 3 (ipykernel)",
   "language": "python",
   "name": "python3"
  },
  "language_info": {
   "codemirror_mode": {
    "name": "ipython",
    "version": 3
   },
   "file_extension": ".py",
   "mimetype": "text/x-python",
   "name": "python",
   "nbconvert_exporter": "python",
   "pygments_lexer": "ipython3",
   "version": "3.9.13"
  }
 },
 "nbformat": 4,
 "nbformat_minor": 5
}
